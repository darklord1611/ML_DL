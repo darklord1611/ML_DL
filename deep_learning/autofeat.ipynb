{
 "cells": [
  {
   "cell_type": "code",
   "execution_count": 1,
   "id": "a2cb7d2d-03f0-4a39-9dc6-22e7f43ced26",
   "metadata": {},
   "outputs": [],
   "source": [
    "import numpy as np\n",
    "import pandas as pd\n",
    "import matplotlib.pyplot as plt\n",
    "\n",
    "from autofeat import FeatureSelector, AutoFeatRegressor\n",
    "\n",
    "%load_ext autoreload\n",
    "%autoreload 2"
   ]
  },
  {
   "cell_type": "code",
   "execution_count": 5,
   "id": "b253ad72-bbf6-4957-8206-b2475efed960",
   "metadata": {},
   "outputs": [],
   "source": [
    "# generate some toy data\n",
    "np.random.seed(10)\n",
    "x1 = np.random.rand(1000)\n",
    "x2 = np.random.randn(1000)\n",
    "x3 = np.random.rand(1000)\n",
    "target = 2 + 15 * x1 + 3 / (x2 - 1 / x3) + 5 * (x2 + np.log(x1)) ** 3\n",
    "target_noisy = target + 0.01 * target.std() * np.random.randn(1000)\n",
    "target_very_noisy = target + 0.1 * target.std() * np.random.randn(1000)\n",
    "X = np.vstack([x1, x2, x3]).T\n",
    "df_org = pd.DataFrame(X, columns=[\"x1\", \"x2\", \"x3\"])"
   ]
  },
  {
   "cell_type": "code",
   "execution_count": null,
   "id": "57bf7dd8-83a3-43eb-89e0-0a50d320fdf8",
   "metadata": {},
   "outputs": [],
   "source": [
    "# autofeat with different number of feature engineering steps\n",
    "# 3 are perfect\n",
    "for steps in range(2):\n",
    "    np.random.seed(55)\n",
    "    print(\"### AutoFeat with %i feateng_steps\" % steps)\n",
    "    afreg = AutoFeatRegressor(verbose=1, feateng_steps=steps)\n",
    "    df = afreg.fit_transform(df_org, target)\n",
    "    r2 = afreg.score(df_org, target)\n",
    "    print(\"## Final R^2: %.4f\" % r2)\n",
    "    plt.figure()\n",
    "    plt.scatter(afreg.predict(df_org), target, s=2)\n",
    "    plt.title(\"%i FE steps (R^2: %.4f; %i new features)\" % (steps, r2, len(afreg.new_feat_cols_)))"
   ]
  },
  {
   "cell_type": "code",
   "execution_count": null,
   "id": "b9e4131f-ee39-4dce-81ca-b73ad68ec94a",
   "metadata": {},
   "outputs": [],
   "source": []
  }
 ],
 "metadata": {
  "kernelspec": {
   "display_name": "Python 3 (ipykernel)",
   "language": "python",
   "name": "python3"
  },
  "language_info": {
   "codemirror_mode": {
    "name": "ipython",
    "version": 3
   },
   "file_extension": ".py",
   "mimetype": "text/x-python",
   "name": "python",
   "nbconvert_exporter": "python",
   "pygments_lexer": "ipython3",
   "version": "3.12.2"
  }
 },
 "nbformat": 4,
 "nbformat_minor": 5
}
