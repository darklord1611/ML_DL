{
 "cells": [
  {
   "cell_type": "code",
   "execution_count": 1,
   "metadata": {
    "deletable": false,
    "editable": false
   },
   "outputs": [
    {
     "name": "stderr",
     "output_type": "stream",
     "text": [
      "/home/zeus/miniconda3/envs/cloudspace/lib/python3.10/site-packages/nbformat/__init__.py:96: MissingIDFieldWarning: Cell is missing an id field, this will become a hard error in future nbformat versions. You may want to use `normalize()` on your notebooks before validations (available since nbformat 5.1.4). Previous versions of nbformat are fixing this issue transparently, and will stop doing so in the future.\n",
      "  validate(nb)\n"
     ]
    }
   ],
   "source": [
    "# Initialize Otter\n",
    "import otter\n",
    "grader = otter.Notebook(\"hw04.ipynb\")"
   ]
  },
  {
   "cell_type": "markdown",
   "metadata": {},
   "source": [
    "<img src=\"data8logo.png\" alt=\"Data 8 Logo\" style=\"width: 15%; float: right; padding: 1%; margin-right: 2%;\"/>\n",
    "\n",
    "# Homework 4: Functions, Tables, and Groups\n",
    "\n",
    "Please complete this notebook by filling in the cells provided. Before you begin, execute the previous cell to load the provided tests.\n",
    "\n",
    "**Helpful Resource:**\n",
    "- [Python Reference](http://data8.org/fa24/reference/): Cheat sheet of helpful array & table methods used in Data 8!\n",
    "\n",
    "**Recommended Readings**: \n",
    "\n",
    "* [Visualizing Numerical Distributions](https://www.inferentialthinking.com/chapters/07/2/Visualizing_Numerical_Distributions.html)\n",
    "* [Functions and Tables](https://www.inferentialthinking.com/chapters/08/Functions_and_Tables.html)\n",
    "\n",
    "Please complete this notebook by filling in the cells provided. **Before you begin, execute the cell below to setup the notebook by importing some helpful libraries.** Each time you start your server, you will need to execute this cell again.\n",
    "\n",
    "For all problems that you must write explanations and sentences for, you **must** provide your answer in the designated space. Moreover, throughout this homework and all future ones, **please be sure to not re-assign variables throughout the notebook!** For example, if you use `max_temperature` in your answer to one question, do not reassign it later on. Otherwise, you will fail tests that you thought you were passing previously!\n",
    "\n",
    "**Deadline:**\n",
    "\n",
    "This assignment is **due Wednesday, 9/25 at 5:00pm PT**. Submissions after this time will be accepted for 24 hours and will incur a 20% penalty. Any submissions later than this 24 hour period will not be accepted unless an extension has been granted as per the [policies](http://data8.org/fa24/policies/) page. Turn it in by Tuesday, 9/24 at 5:00pm PT for 5 extra credit points.\n",
    "\n",
    "<span style=\"color:red\">**Note: This homework has hidden tests on it. That means even though tests may say 100% passed, it doesn't mean your final grade will be 100%. We will be running more tests for correctness once everyone turns in the homework.**</span>\n",
    "\n",
    "Directly sharing answers is not okay, but discussing problems with the course staff or with other students is encouraged. Refer to the [policies](http://data8.org/fa24/policies/#learning-cooperatively) page to learn more about how to learn cooperatively.\n",
    "\n",
    "You should start early so that you have time to get help if you're stuck. Office hours are held Monday through Friday in [Warren Hall](https://www.berkeley.edu/map?warren). The office hours schedule appears on our [OH page](http://data8.org/fa24/officehours/)."
   ]
  },
  {
   "cell_type": "markdown",
   "metadata": {},
   "source": [
    "---\n",
    "\n",
    "The point breakdown for this assignment is given in the table below:\n",
    "| Category | Points |\n",
    "| --- | --- |\n",
    "| Autograder (Coding questions) | 60 |\n",
    "| Written | 40 |\n",
    "| **Total** | 100 |\n"
   ]
  },
  {
   "cell_type": "markdown",
   "metadata": {},
   "source": [
    "<hr style=\"border: 5px solid #003262;\" />\n",
    "<hr style=\"border: 1px solid #fdb515;\" />\n",
    "\n",
    "## 1. Burrito-ful San Diego"
   ]
  },
  {
   "cell_type": "code",
   "execution_count": 2,
   "metadata": {},
   "outputs": [],
   "source": [
    "# Run this cell to set up the notebook, but please don't change it.\n",
    "\n",
    "# These lines import the Numpy and Datascience modules.\n",
    "import numpy as np\n",
    "from datascience import *\n",
    "\n",
    "# These lines do some fancy plotting magic.\n",
    "import matplotlib\n",
    "%matplotlib inline\n",
    "import matplotlib.pyplot as plt\n",
    "plt.style.use('fivethirtyeight')\n",
    "\n",
    "import warnings\n",
    "warnings.simplefilter('ignore', FutureWarning)\n",
    "warnings.filterwarnings(\"ignore\")"
   ]
  },
  {
   "cell_type": "markdown",
   "metadata": {},
   "source": [
    "Edwin, Gamy and Andrew are trying to use Data Science to find the best burritos in San Diego! Their friends Jessica, Aileen, and Conan provided them with two comprehensive datasets on many burrito establishments in the San Diego area taken and cleaned from [here](https://www.kaggle.com/srcole/burritos-in-san-diego/data)"
   ]
  },
  {
   "cell_type": "markdown",
   "metadata": {},
   "source": [
    "The following cell reads in a table called `ratings` which contains names of burrito restaurants, their Yelp rating, Google rating, as well as their overall rating. The `Overall` rating is not an average of the `Yelp` and `Google` ratings, but rather it is the overall rating of the customers that were surveyed in the study above.\n",
    "\n",
    "\n",
    "It also reads in a table called `burritos_types` which contains names of burrito restaurants, their menu items, and the cost of the respective menu item at the restaurant."
   ]
  },
  {
   "cell_type": "code",
   "execution_count": 3,
   "metadata": {
    "deletable": false,
    "editable": false
   },
   "outputs": [
    {
     "data": {
      "text/html": [
       "<table border=\"1\" class=\"dataframe\">\n",
       "    <thead>\n",
       "        <tr>\n",
       "            <th>Name</th> <th>Yelp</th> <th>Google</th> <th>Overall</th>\n",
       "        </tr>\n",
       "    </thead>\n",
       "    <tbody>\n",
       "        <tr>\n",
       "            <td>Albertacos                </td> <td>3.5 </td> <td>3.9   </td> <td>3.45   </td>\n",
       "        </tr>\n",
       "        <tr>\n",
       "            <td>Burrito Factory           </td> <td>4.5 </td> <td>4.8   </td> <td>3.5    </td>\n",
       "        </tr>\n",
       "        <tr>\n",
       "            <td>Burros and Fries          </td> <td>3.5 </td> <td>4.1   </td> <td>3.575  </td>\n",
       "        </tr>\n",
       "        <tr>\n",
       "            <td>Caliente Mexican Food     </td> <td>3.5 </td> <td>4.4   </td> <td>3.25   </td>\n",
       "        </tr>\n",
       "        <tr>\n",
       "            <td>California Burrito Company</td> <td>3.5 </td> <td>4.4   </td> <td>3.2    </td>\n",
       "        </tr>\n",
       "    </tbody>\n",
       "</table>\n",
       "<p>... (77 rows omitted)</p>"
      ],
      "text/plain": [
       "<IPython.core.display.HTML object>"
      ]
     },
     "metadata": {},
     "output_type": "display_data"
    },
    {
     "data": {
      "text/html": [
       "<table border=\"1\" class=\"dataframe\">\n",
       "    <thead>\n",
       "        <tr>\n",
       "            <th>Name</th> <th>Menu_Item</th> <th>Cost</th>\n",
       "        </tr>\n",
       "    </thead>\n",
       "    <tbody>\n",
       "        <tr>\n",
       "            <td>Albertacos                                         </td> <td>California          </td> <td>5.7 </td>\n",
       "        </tr>\n",
       "        <tr>\n",
       "            <td>Albertacos                                         </td> <td>Carne Asada         </td> <td>5.25</td>\n",
       "        </tr>\n",
       "        <tr>\n",
       "            <td>Alberto's 623 N Escondido Blvd, Escondido, CA 92025</td> <td>Carne Asada         </td> <td>4.59</td>\n",
       "        </tr>\n",
       "        <tr>\n",
       "            <td>Burrito Box                                        </td> <td>Steak With Guacamole</td> <td>11.5</td>\n",
       "        </tr>\n",
       "        <tr>\n",
       "            <td>Burrito Factory                                    </td> <td>Steak Everything    </td> <td>7.35</td>\n",
       "        </tr>\n",
       "    </tbody>\n",
       "</table>\n",
       "<p>... (244 rows omitted)</p>"
      ],
      "text/plain": [
       "<IPython.core.display.HTML object>"
      ]
     },
     "metadata": {},
     "output_type": "display_data"
    }
   ],
   "source": [
    "# Just run this cell\n",
    "ratings = Table.read_table(\"ratings.csv\")\n",
    "ratings.show(5)\n",
    "burritos_types = Table.read_table(\"burritos_types.csv\").drop(0)\n",
    "burritos_types.show(5)"
   ]
  },
  {
   "attachments": {},
   "cell_type": "markdown",
   "metadata": {},
   "source": [
    "---\n",
    "\n",
    "**Question 1.** It would be easier if we could combine the information in both tables. Assign `burritos` to the result of joining the two tables together, so that we have a table with the ratings for every corresponding menu item from every restaurant. Each menu item has the same rating as the restaurant from which it is from. **(8 Points)**\n",
    "\n",
    "*Note:* It doesn't matter which table you put in as the argument to the table method, either order will work for the autograder tests.\n",
    "\n",
    "*Hint:* Which function lets us combine information from two tables? Refer to the [Python Reference Sheet](http://data8.org/su24/reference/) if you're unsure!\n"
   ]
  },
  {
   "cell_type": "code",
   "execution_count": 4,
   "metadata": {
    "scrolled": true,
    "tags": []
   },
   "outputs": [
    {
     "data": {
      "text/html": [
       "<table border=\"1\" class=\"dataframe\">\n",
       "    <thead>\n",
       "        <tr>\n",
       "            <th>Name</th> <th>Menu_Item</th> <th>Cost</th> <th>Yelp</th> <th>Google</th> <th>Overall</th>\n",
       "        </tr>\n",
       "    </thead>\n",
       "    <tbody>\n",
       "        <tr>\n",
       "            <td>Albertacos                </td> <td>California       </td> <td>5.7 </td> <td>3.5 </td> <td>3.9   </td> <td>3.45   </td>\n",
       "        </tr>\n",
       "        <tr>\n",
       "            <td>Albertacos                </td> <td>Carne Asada      </td> <td>5.25</td> <td>3.5 </td> <td>3.9   </td> <td>3.45   </td>\n",
       "        </tr>\n",
       "        <tr>\n",
       "            <td>Burrito Factory           </td> <td>Steak Everything </td> <td>7.35</td> <td>4.5 </td> <td>4.8   </td> <td>3.5    </td>\n",
       "        </tr>\n",
       "        <tr>\n",
       "            <td>Burros and Fries          </td> <td>California       </td> <td>7.19</td> <td>3.5 </td> <td>4.1   </td> <td>3.575  </td>\n",
       "        </tr>\n",
       "        <tr>\n",
       "            <td>Burros and Fries          </td> <td>Carne Asada      </td> <td>6.89</td> <td>3.5 </td> <td>4.1   </td> <td>3.575  </td>\n",
       "        </tr>\n",
       "        <tr>\n",
       "            <td>Burros and Fries          </td> <td>Shrimp California</td> <td>6.99</td> <td>3.5 </td> <td>4.1   </td> <td>3.575  </td>\n",
       "        </tr>\n",
       "        <tr>\n",
       "            <td>Caliente Mexican Food     </td> <td>California       </td> <td>6.47</td> <td>3.5 </td> <td>4.4   </td> <td>3.25   </td>\n",
       "        </tr>\n",
       "        <tr>\n",
       "            <td>Caliente Mexican Food     </td> <td>Carne Asada      </td> <td>5.56</td> <td>3.5 </td> <td>4.4   </td> <td>3.25   </td>\n",
       "        </tr>\n",
       "        <tr>\n",
       "            <td>Caliente Mexican Food     </td> <td>Fried Fish       </td> <td>5.56</td> <td>3.5 </td> <td>4.4   </td> <td>3.25   </td>\n",
       "        </tr>\n",
       "        <tr>\n",
       "            <td>California Burrito Company</td> <td>California       </td> <td>5.5 </td> <td>3.5 </td> <td>4.4   </td> <td>3.2    </td>\n",
       "        </tr>\n",
       "    </tbody>\n",
       "</table>\n",
       "<p>... (202 rows omitted)</p>"
      ],
      "text/plain": [
       "<IPython.core.display.HTML object>"
      ]
     },
     "metadata": {},
     "output_type": "display_data"
    }
   ],
   "source": [
    "burritos = burritos_types.join('Name', ratings, 'Name')\n",
    "burritos.show(10)"
   ]
  },
  {
   "cell_type": "code",
   "execution_count": 5,
   "metadata": {
    "deletable": false,
    "editable": false
   },
   "outputs": [
    {
     "data": {
      "text/html": [
       "<p><strong><pre style='display: inline;'>q1_1</pre></strong> passed! 💯</p>"
      ],
      "text/plain": [
       "q1_1 results: All test cases passed!"
      ]
     },
     "execution_count": 5,
     "metadata": {},
     "output_type": "execute_result"
    }
   ],
   "source": [
    "grader.check(\"q1_1\")"
   ]
  },
  {
   "cell_type": "markdown",
   "metadata": {},
   "source": [
    "<!-- BEGIN QUESTION -->\n",
    "\n",
    "---\n",
    "\n",
    "**Question 2.** Let's look at how the Yelp scores compare to the Google scores in the `burritos` table. First, assign `yelp_google_tbl` to a table only containing the columns `Yelp` and `Google`. Then, make a scatter plot with Yelp scores on the x-axis and the Google scores on the y-axis. **(8 Points)**\n"
   ]
  },
  {
   "cell_type": "code",
   "execution_count": 7,
   "metadata": {
    "tags": []
   },
   "outputs": [
    {
     "data": {
      "image/png": "[encoded data removed]",
      "text/plain": [
       "<Figure size 500x500 with 1 Axes>"
      ]
     },
     "metadata": {},
     "output_type": "display_data"
    }
   ],
   "source": [
    "yelp_google_tbl = burritos.select('Yelp', 'Google')\n",
    "yelp_google_tbl.scatter(\"Yelp\")\n",
    "\n",
    "# Don't change/edit/remove the following line.\n",
    "# To help you make conclusions, we have plotted a straight line on the graph (y=x).\n",
    "plt.plot(np.arange(2.5,5,.5), np.arange(2.5,5,.5));"
   ]
  },
  {
   "cell_type": "markdown",
   "metadata": {},
   "source": [
    "<!-- END QUESTION -->\n",
    "\n",
    "<!-- BEGIN QUESTION -->\n",
    "\n",
    "---\n",
    "\n",
    "**Question 3.** Looking at the scatter plot you just made in Question 1.2, do you notice any pattern(s) or relationships between Yelp and Google ratings (i.e. is one of the two types of scores consistently higher than the other one)? If so, describe them **briefly** in the cell below. **(8 Points)**\n"
   ]
  },
  {
   "cell_type": "markdown",
   "metadata": {},
   "source": [
    "Google's scores are consistently higher than Yelp's"
   ]
  },
  {
   "cell_type": "markdown",
   "metadata": {},
   "source": [
    "<!-- END QUESTION -->\n",
    "\n",
    "Here's a refresher on how `.group` works! You can read how `.group` works in the [textbook](https://www.inferentialthinking.com/chapters/08/2/Classifying_by_One_Variable.html), or you can view the video below. The video resource was made by a past staff member, Divyesh Chotai!\n",
    "\n",
    "You can also use the [Table Functions Visualizer](http://data8.org/interactive_table_functions/) to get some more hands-on experience with the `.group` function."
   ]
  },
  {
   "cell_type": "code",
   "execution_count": 8,
   "metadata": {},
   "outputs": [
    {
     "data": {
      "image/jpeg": "[encoded data removed]",
      "text/html": [
       "\n",
       "        <iframe\n",
       "            width=\"400\"\n",
       "            height=\"300\"\n",
       "            src=\"https://www.youtube.com/embed/HLoYTCUP0fc\"\n",
       "            frameborder=\"0\"\n",
       "            allowfullscreen\n",
       "            \n",
       "        ></iframe>\n",
       "        "
      ],
      "text/plain": [
       "<IPython.lib.display.YouTubeVideo at 0x7f673d56c700>"
      ]
     },
     "execution_count": 8,
     "metadata": {},
     "output_type": "execute_result"
    }
   ],
   "source": [
    "# Don't worry about what this code does! It simply embeds a YouTube video into a code cell.\n",
    "from IPython.display import YouTubeVideo\n",
    "YouTubeVideo(\"HLoYTCUP0fc\")"
   ]
  },
  {
   "cell_type": "markdown",
   "metadata": {},
   "source": [
    "---\n",
    "\n",
    "**Question 4.** There are so many types of California burritos in the `burritos` table! Gamy wants to consider his options for burritos based on rankings. For the sake of these questions, we are treating each menu item's rating the same as its respective restaurant's, as we do not have the rating of every single item at these restaurants. You do not need to worry about this fact, but we thought to mention it!\n",
    "\n",
    "Create a table with two columns: the first column include the **names of the burritos** and the second column should contain the **average overall rating** of that burrito across restaurants. **In your calculations, you should only compare burritos that contain the word \"California\".** For example, there are \"California\" burritos, \"California Breakfast\" burritos, \"California Surf And Turf\" burritos, etc. **(9 Points)**\n",
    "\n",
    "*Hint:* “California” is case sensitive (“California” is not the same as “california”), so make sure to capitalize the C! \n",
    "\n",
    "*Note:* For reference, the staff solution only used one line. However, feel free to break up the solution into multiple lines and steps; just make sure you assign the final output table to `california_burritos`! \n"
   ]
  },
  {
   "cell_type": "code",
   "execution_count": 21,
   "id": "528c7589",
   "metadata": {},
   "outputs": [
    {
     "data": {
      "text/html": [
       "<table border=\"1\" class=\"dataframe\">\n",
       "    <thead>\n",
       "        <tr>\n",
       "            <th>Name</th> <th>Menu_Item</th> <th>Cost</th> <th>Yelp</th> <th>Google</th> <th>Overall</th>\n",
       "        </tr>\n",
       "    </thead>\n",
       "    <tbody>\n",
       "        <tr>\n",
       "            <td>Albertacos                </td> <td>California       </td> <td>5.7 </td> <td>3.5 </td> <td>3.9   </td> <td>3.45   </td>\n",
       "        </tr>\n",
       "        <tr>\n",
       "            <td>Burros and Fries          </td> <td>California       </td> <td>7.19</td> <td>3.5 </td> <td>4.1   </td> <td>3.575  </td>\n",
       "        </tr>\n",
       "        <tr>\n",
       "            <td>Burros and Fries          </td> <td>Shrimp California</td> <td>6.99</td> <td>3.5 </td> <td>4.1   </td> <td>3.575  </td>\n",
       "        </tr>\n",
       "        <tr>\n",
       "            <td>Caliente Mexican Food     </td> <td>California       </td> <td>6.47</td> <td>3.5 </td> <td>4.4   </td> <td>3.25   </td>\n",
       "        </tr>\n",
       "        <tr>\n",
       "            <td>California Burrito Company</td> <td>California       </td> <td>5.5 </td> <td>3.5 </td> <td>4.4   </td> <td>3.2    </td>\n",
       "        </tr>\n",
       "    </tbody>\n",
       "</table>\n",
       "<p>... (70 rows omitted)</p>"
      ],
      "text/plain": [
       "<IPython.core.display.HTML object>"
      ]
     },
     "metadata": {},
     "output_type": "display_data"
    }
   ],
   "source": [
    "california = burritos.where('Menu_Item', are.containing(\"California\"))\n",
    "california.show(5)"
   ]
  },
  {
   "cell_type": "code",
   "execution_count": 24,
   "metadata": {
    "tags": []
   },
   "outputs": [
    {
     "data": {
      "text/html": [
       "<table border=\"1\" class=\"dataframe\">\n",
       "    <thead>\n",
       "        <tr>\n",
       "            <th>Menu_Item</th> <th>Overall average</th>\n",
       "        </tr>\n",
       "    </thead>\n",
       "    <tbody>\n",
       "        <tr>\n",
       "            <td>California                    </td> <td>3.5242         </td>\n",
       "        </tr>\n",
       "        <tr>\n",
       "            <td>California (Only Cheese)      </td> <td>4.1            </td>\n",
       "        </tr>\n",
       "        <tr>\n",
       "            <td>California + Guac + Sour Cream</td> <td>3.4            </td>\n",
       "        </tr>\n",
       "        <tr>\n",
       "            <td>California - Chicken          </td> <td>3.45839        </td>\n",
       "        </tr>\n",
       "        <tr>\n",
       "            <td>California - Pork Adobada     </td> <td>3.26429        </td>\n",
       "        </tr>\n",
       "        <tr>\n",
       "            <td>California - Steak            </td> <td>3.26429        </td>\n",
       "        </tr>\n",
       "        <tr>\n",
       "            <td>California Breakfast          </td> <td>2.75833        </td>\n",
       "        </tr>\n",
       "        <tr>\n",
       "            <td>California Chicken            </td> <td>3.54815        </td>\n",
       "        </tr>\n",
       "        <tr>\n",
       "            <td>California Chipotle           </td> <td>4.36667        </td>\n",
       "        </tr>\n",
       "        <tr>\n",
       "            <td>California Everything         </td> <td>4.1            </td>\n",
       "        </tr>\n",
       "    </tbody>\n",
       "</table>\n",
       "<p>... (9 rows omitted)</p>"
      ],
      "text/plain": [
       "Menu_Item                      | Overall average\n",
       "California                     | 3.5242\n",
       "California (Only Cheese)       | 4.1\n",
       "California + Guac + Sour Cream | 3.4\n",
       "California - Chicken           | 3.45839\n",
       "California - Pork Adobada      | 3.26429\n",
       "California - Steak             | 3.26429\n",
       "California Breakfast           | 2.75833\n",
       "California Chicken             | 3.54815\n",
       "California Chipotle            | 4.36667\n",
       "California Everything          | 4.1\n",
       "... (9 rows omitted)"
      ]
     },
     "execution_count": 24,
     "metadata": {},
     "output_type": "execute_result"
    }
   ],
   "source": [
    "california_burritos = california.group(\"Menu_Item\", np.average).select(\"Menu_Item\", \"Overall average\")\n",
    "california_burritos"
   ]
  },
  {
   "cell_type": "code",
   "execution_count": 25,
   "metadata": {
    "deletable": false,
    "editable": false
   },
   "outputs": [
    {
     "data": {
      "text/html": [
       "<p><strong><pre style='display: inline;'>q1_4</pre></strong> passed! 🚀</p>"
      ],
      "text/plain": [
       "q1_4 results: All test cases passed!"
      ]
     },
     "execution_count": 25,
     "metadata": {},
     "output_type": "execute_result"
    }
   ],
   "source": [
    "grader.check(\"q1_4\")"
   ]
  },
  {
   "cell_type": "markdown",
   "metadata": {},
   "source": [
    "---\n",
    "\n",
    "**Question 5.** Given this new table `california_burritos`, Andrew can figure out the name of the California burrito with the highest overall average rating! Assign `best_california_burrito` to a line of code that outputs the string that represents the name of the California burrito with the highest overall average rating. If multiple burritos satisfy this criteria, you can output any one of them. **(8 Points)**\n"
   ]
  },
  {
   "cell_type": "code",
   "execution_count": 28,
   "metadata": {
    "tags": []
   },
   "outputs": [
    {
     "data": {
      "text/plain": [
       "'California Chipotle'"
      ]
     },
     "execution_count": 28,
     "metadata": {},
     "output_type": "execute_result"
    }
   ],
   "source": [
    "best_california_burrito = california_burritos.sort(\"Overall average\", descending=True).column(\"Menu_Item\").item(0)\n",
    "best_california_burrito"
   ]
  },
  {
   "cell_type": "code",
   "execution_count": 29,
   "metadata": {
    "deletable": false,
    "editable": false
   },
   "outputs": [
    {
     "data": {
      "text/html": [
       "<p><strong><pre style='display: inline;'>q1_5</pre></strong> passed! 🎉</p>"
      ],
      "text/plain": [
       "q1_5 results: All test cases passed!"
      ]
     },
     "execution_count": 29,
     "metadata": {},
     "output_type": "execute_result"
    }
   ],
   "source": [
    "grader.check(\"q1_5\")"
   ]
  },
  {
   "cell_type": "markdown",
   "metadata": {},
   "source": [
    "<!-- BEGIN QUESTION -->\n",
    "\n",
    "---\n",
    "\n",
    "**Question 6.** Edwin thinks that burritos in San Diego are cheaper (and taste better) than the burritos in Berkeley. Plot a histogram that visualizes that distribution of the costs of the burritos from San Diego in the `burritos` table. Also use the provided `cost_bins` variable when making your histogram, so that the histogram is more visually informative. **(8 Points)**\n"
   ]
  },
  {
   "cell_type": "code",
   "execution_count": 35,
   "metadata": {
    "tags": []
   },
   "outputs": [
    {
     "data": {
      "image/png": "[encoded data removed]",
      "text/plain": [
       "<Figure size 600x400 with 1 Axes>"
      ]
     },
     "metadata": {},
     "output_type": "display_data"
    }
   ],
   "source": [
    "cost_bins = np.arange(0, 15, 1) # Do not change this line\n",
    "# Please also use the provided bins\n",
    "\n",
    "burritos.hist(\"Cost\", bins=cost_bins)"
   ]
  },
  {
   "cell_type": "markdown",
   "metadata": {},
   "source": [
    "<!-- END QUESTION -->\n",
    "\n",
    "---\n",
    "\n",
    "**Question 7.** What percentage of burritos in San Diego are less than $6? Assign `burritos_less_than_six` to your answer, **which should be between 0 and 100**. You should only use the histogram above to answer the question. Do not use code on the table to to find the answer, just eyeball the heights and use Python to evaluate your arithmetic! **(8 Points)**\n",
    "\n",
    "*Note*: Your answer does not have to be exact, but it should be within a couple percentages of the staff answer.\n",
    "\n",
    "*Hint:* It might be helpful to review [Section 7.2](https://inferentialthinking.com/chapters/07/2/Visualizing_Numerical_Distributions.html) of the textbook about calculating percentages from histograms.\n"
   ]
  },
  {
   "cell_type": "code",
   "execution_count": 36,
   "metadata": {
    "tags": []
   },
   "outputs": [],
   "source": [
    "burritos_less_than_six = 22"
   ]
  },
  {
   "cell_type": "code",
   "execution_count": 37,
   "metadata": {
    "deletable": false,
    "editable": false
   },
   "outputs": [
    {
     "data": {
      "text/html": [
       "<p><strong><pre style='display: inline;'>q1_7</pre></strong> passed! 🙌</p>"
      ],
      "text/plain": [
       "q1_7 results: All test cases passed!"
      ]
     },
     "execution_count": 37,
     "metadata": {},
     "output_type": "execute_result"
    }
   ],
   "source": [
    "grader.check(\"q1_7\")"
   ]
  },
  {
   "cell_type": "markdown",
   "metadata": {},
   "source": [
    "<hr style=\"border: 5px solid #003262;\" />\n",
    "<hr style=\"border: 1px solid #fdb515;\" />\n",
    "\n",
    "## 2. San Francisco City Employee Salaries"
   ]
  },
  {
   "attachments": {},
   "cell_type": "markdown",
   "metadata": {},
   "source": [
    "This exercise is designed to give you practice with using the Table methods `.pivot` and `.group`. Here is a link to the [Python Reference](http://data8.org/su24/reference/) in case you need a quick refresher. The [Table Function Visualizer](http://data8.org/interactive_table_functions/) may also be a helpful tool.\n",
    "\n",
    "Run the cell below to view a demo on how you can use pivot on a table. (Thank you to past staff Divyesh Chotai!) "
   ]
  },
  {
   "cell_type": "code",
   "execution_count": 38,
   "metadata": {
    "scrolled": true
   },
   "outputs": [
    {
     "data": {
      "image/jpeg": "[encoded data removed]",
      "text/html": [
       "\n",
       "        <iframe\n",
       "            width=\"400\"\n",
       "            height=\"300\"\n",
       "            src=\"https://www.youtube.com/embed/4WzXo8eKLAg\"\n",
       "            frameborder=\"0\"\n",
       "            allowfullscreen\n",
       "            \n",
       "        ></iframe>\n",
       "        "
      ],
      "text/plain": [
       "<IPython.lib.display.YouTubeVideo at 0x7f673ad88640>"
      ]
     },
     "execution_count": 38,
     "metadata": {},
     "output_type": "execute_result"
    }
   ],
   "source": [
    "# Don't worry about what this code does! It simply embeds a YouTube video into a code cell.\n",
    "from IPython.display import YouTubeVideo\n",
    "YouTubeVideo(\"4WzXo8eKLAg\")"
   ]
  },
  {
   "cell_type": "markdown",
   "metadata": {},
   "source": [
    "The data source we will use within this portion of the homework is [publicly provided](https://data.sfgov.org/City-Management-and-Ethics/Employee-Compensation/88g8-5mnd/data) by the City of San Francisco. We have filtered it to retain just the relevant columns and restricted the data to the calendar year 2019. Run the following cell to load our data into a table called `full_sf`."
   ]
  },
  {
   "cell_type": "code",
   "execution_count": 39,
   "metadata": {},
   "outputs": [
    {
     "data": {
      "text/html": [
       "<table border=\"1\" class=\"dataframe\">\n",
       "    <thead>\n",
       "        <tr>\n",
       "            <th>Organization Group</th> <th>Department</th> <th>Job Family</th> <th>Job</th> <th>Salary</th> <th>Overtime</th> <th>Benefits</th> <th>Total Compensation</th>\n",
       "        </tr>\n",
       "    </thead>\n",
       "    <tbody>\n",
       "        <tr>\n",
       "            <td>Public Protection </td> <td>Adult Probation</td> <td>Information Systems</td> <td>IS Trainer-Journey           </td> <td>91332 </td> <td>0       </td> <td>40059   </td> <td>131391            </td>\n",
       "        </tr>\n",
       "        <tr>\n",
       "            <td>Public Protection </td> <td>Adult Probation</td> <td>Information Systems</td> <td>IS Engineer-Assistant        </td> <td>123241</td> <td>0       </td> <td>49279   </td> <td>172520            </td>\n",
       "        </tr>\n",
       "        <tr>\n",
       "            <td>Public Protection </td> <td>Adult Probation</td> <td>Information Systems</td> <td>IS Business Analyst-Senior   </td> <td>115715</td> <td>0       </td> <td>46752   </td> <td>162468            </td>\n",
       "        </tr>\n",
       "        <tr>\n",
       "            <td>Public Protection </td> <td>Adult Probation</td> <td>Information Systems</td> <td>IS Business Analyst-Principal</td> <td>159394</td> <td>0       </td> <td>57312   </td> <td>216706            </td>\n",
       "        </tr>\n",
       "        <tr>\n",
       "            <td>Public Protection </td> <td>Adult Probation</td> <td>Information Systems</td> <td>IS Programmer Analyst        </td> <td>70035 </td> <td>0       </td> <td>28671   </td> <td>98706             </td>\n",
       "        </tr>\n",
       "    </tbody>\n",
       "</table>\n",
       "<p>... (44520 rows omitted)</p>"
      ],
      "text/plain": [
       "<IPython.core.display.HTML object>"
      ]
     },
     "metadata": {},
     "output_type": "display_data"
    }
   ],
   "source": [
    "full_sf = Table.read_table(\"sf2019.csv\")\n",
    "full_sf.show(5)"
   ]
  },
  {
   "cell_type": "markdown",
   "metadata": {},
   "source": [
    "The table has one row for each of the 44,525 San Francisco government employees in 2019.\n",
    "\n",
    "The first four columns describe the employee's job. For example, the employee in the third row of the table had a job called \"IS Business Analyst-Senior\". We will call this the employee's *position* or *job title*. The job was in a Job Family called Information Systems (hence the IS in the job title), and was in the Adult Probation Department that is part of the Public Protection Organization Group of the government. You will mostly be working with the `Job` column.\n",
    "\n",
    "The next three columns contain the dollar amounts paid to the employee in the calendar year 2019 for salary, overtime, and benefits. Note that an employee’s salary does not include their overtime earnings.\n",
    "\n",
    "The last column contains the total compensation paid to the employee. It is the sum of the previous three columns:\n",
    "\n",
    "$$\\text{Total Compensation} = \\text{Salary} + \\text{Overtime} + \\text{Benefits}$$\n",
    "\n",
    "For this homework, we will be using the following columns:\n",
    "1. `Organization Group`: A group of departments. For example, the Public Protection Org. Group includes departments such as the Police, Fire, Adult Protection, District Attorney, etc.\n",
    "2. `Department`: The primary organizational unit used by the City and County of San Francisco.\n",
    "3. `Job`: The specific position that a given worker fills.\n",
    "4. `Total Compensation`: The sum of a worker's salary, overtime, and benefits in 2019.\n",
    "\n",
    "\n",
    "Run the following cell to select the relevant columns and create a new table named `sf`."
   ]
  },
  {
   "cell_type": "code",
   "execution_count": 40,
   "metadata": {},
   "outputs": [
    {
     "data": {
      "text/html": [
       "<table border=\"1\" class=\"dataframe\">\n",
       "    <thead>\n",
       "        <tr>\n",
       "            <th>Job</th> <th>Department</th> <th>Organization Group</th> <th>Total Compensation</th>\n",
       "        </tr>\n",
       "    </thead>\n",
       "    <tbody>\n",
       "        <tr>\n",
       "            <td>IS Trainer-Journey           </td> <td>Adult Probation</td> <td>Public Protection </td> <td>131391            </td>\n",
       "        </tr>\n",
       "        <tr>\n",
       "            <td>IS Engineer-Assistant        </td> <td>Adult Probation</td> <td>Public Protection </td> <td>172520            </td>\n",
       "        </tr>\n",
       "        <tr>\n",
       "            <td>IS Business Analyst-Senior   </td> <td>Adult Probation</td> <td>Public Protection </td> <td>162468            </td>\n",
       "        </tr>\n",
       "        <tr>\n",
       "            <td>IS Business Analyst-Principal</td> <td>Adult Probation</td> <td>Public Protection </td> <td>216706            </td>\n",
       "        </tr>\n",
       "        <tr>\n",
       "            <td>IS Programmer Analyst        </td> <td>Adult Probation</td> <td>Public Protection </td> <td>98706             </td>\n",
       "        </tr>\n",
       "    </tbody>\n",
       "</table>\n",
       "<p>... (44520 rows omitted)</p>"
      ],
      "text/plain": [
       "<IPython.core.display.HTML object>"
      ]
     },
     "metadata": {},
     "output_type": "display_data"
    }
   ],
   "source": [
    "sf = full_sf.select(\"Job\", \"Department\", \"Organization Group\",  \"Total Compensation\")\n",
    "sf.show(5)"
   ]
  },
  {
   "cell_type": "markdown",
   "metadata": {},
   "source": [
    "We want to use this table to generate arrays with the job titles of the members of each **Organization Group**."
   ]
  },
  {
   "attachments": {},
   "cell_type": "markdown",
   "metadata": {},
   "source": [
    "---\n",
    "\n",
    "**Question 1.** Set `job_titles` to a table with two columns. The first column should be called `Organization Group` and have the name of every \"Organization Group\" each listed only once in this column, and the second column should be called `Jobs` with each row in that second column containing an *array* of the names of all the job titles within that \"Organization Group\". Don't worry if there are multiple of the same job titles. **(9 Points)**\n",
    "\n",
    "*Hint 1:* Think about how `group` works: it collects values into an array and then applies a function to that array. We have defined two functions below for you, and you will need to use one of them in your call to `group`. \n",
    "\n",
    "*Hint 2:* You might need to rename one of the columns.\n"
   ]
  },
  {
   "cell_type": "code",
   "execution_count": null,
   "id": "37054308",
   "metadata": {},
   "outputs": [],
   "source": [
    "sf.group(\"Organization Group\", full_array).column(\"Job full_array\")"
   ]
  },
  {
   "cell_type": "code",
   "execution_count": 50,
   "metadata": {
    "tags": []
   },
   "outputs": [
    {
     "data": {
      "text/html": [
       "<table border=\"1\" class=\"dataframe\">\n",
       "    <thead>\n",
       "        <tr>\n",
       "            <th>Organization Group</th> <th>Jobs</th>\n",
       "        </tr>\n",
       "    </thead>\n",
       "    <tbody>\n",
       "        <tr>\n",
       "            <td>Community Health                        </td> <td>['Account Clerk' 'Account Clerk' 'Account Clerk' ..., 'U ...</td>\n",
       "        </tr>\n",
       "        <tr>\n",
       "            <td>Culture & Recreation                    </td> <td>['Account Clerk' 'Account Clerk' 'Accountant II' ...,\n",
       " ' ...</td>\n",
       "        </tr>\n",
       "        <tr>\n",
       "            <td>General Administration & Finance        </td> <td>['ASR Operations Supervisor' 'ASR Operations Supervisor' ...</td>\n",
       "        </tr>\n",
       "        <tr>\n",
       "            <td>Human Welfare & Neighborhood Development</td> <td>['Account Clerk' 'Account Clerk' 'Account Clerk' ...,\n",
       " ' ...</td>\n",
       "        </tr>\n",
       "        <tr>\n",
       "            <td>Public Protection                       </td> <td>['ACPO,JuvP, Juv Prob (SFERS)' 'Account Clerk' 'Account  ...</td>\n",
       "        </tr>\n",
       "        <tr>\n",
       "            <td>Public Works, Transportation & Commerce </td> <td>['Account Clerk' 'Account Clerk' 'Account Clerk' ...,\n",
       " ' ...</td>\n",
       "        </tr>\n",
       "    </tbody>\n",
       "</table>"
      ],
      "text/plain": [
       "Organization Group                       | Jobs\n",
       "Community Health                         | ['Account Clerk' 'Account Clerk' 'Account Clerk' ..., 'U ...\n",
       "Culture & Recreation                     | ['Account Clerk' 'Account Clerk' 'Accountant II' ...,\n",
       " ' ...\n",
       "General Administration & Finance         | ['ASR Operations Supervisor' 'ASR Operations Supervisor' ...\n",
       "Human Welfare & Neighborhood Development | ['Account Clerk' 'Account Clerk' 'Account Clerk' ...,\n",
       " ' ...\n",
       "Public Protection                        | ['ACPO,JuvP, Juv Prob (SFERS)' 'Account Clerk' 'Account  ...\n",
       "Public Works, Transportation & Commerce  | ['Account Clerk' 'Account Clerk' 'Account Clerk' ...,\n",
       " ' ..."
      ]
     },
     "execution_count": 50,
     "metadata": {},
     "output_type": "execute_result"
    }
   ],
   "source": [
    "# Pick one of the two functions defined below in your call to group.\n",
    "def first_item(array):\n",
    "    '''Returns the first item'''\n",
    "    return array.item(0)\n",
    "\n",
    "def full_array(array):\n",
    "    '''Returns the array that is passed through'''\n",
    "    return np.sort(array)\n",
    "\n",
    "# Make a call to group using one of the functions above when you define job_titles\n",
    "job_titles = Table().with_columns(\n",
    "    \"Organization Group\", sf.group(\"Organization Group\").column(0),\n",
    "    \"Jobs\", sf.group(\"Organization Group\", full_array).column(\"Job full_array\")\n",
    ")\n",
    "job_titles"
   ]
  },
  {
   "cell_type": "code",
   "execution_count": 51,
   "metadata": {
    "deletable": false,
    "editable": false
   },
   "outputs": [
    {
     "data": {
      "text/html": [
       "<p><strong><pre style='display: inline;'>q2_1</pre></strong> passed! 💯</p>"
      ],
      "text/plain": [
       "q2_1 results: All test cases passed!"
      ]
     },
     "execution_count": 51,
     "metadata": {},
     "output_type": "execute_result"
    }
   ],
   "source": [
    "grader.check(\"q2_1\")"
   ]
  },
  {
   "cell_type": "markdown",
   "metadata": {},
   "source": [
    "<!-- BEGIN QUESTION -->\n",
    "\n",
    "---\n",
    "\n",
    "**Question 2.** At the moment, the `Job` column of the `sf` table is not sorted (no particular order). Would the arrays you generated in the `Jobs` column of the previous question be the same if we had sorted alphabetically instead before generating them? Explain your answer. To receive full credit, your answer should reference *how* the `.group` method works, and how sorting the `Jobs` column would affect this.  **(8 Points)**\n",
    "\n",
    "*Note:* Two arrays are the **same** if they contain the same number of elements and the elements located at corresponding indexes in the two arrays are identical. An example of arrays that are NOT the same: `array([1,2]) != array([2,1])`.\n"
   ]
  },
  {
   "cell_type": "markdown",
   "metadata": {},
   "source": [
    "No, since .group will take into account all different values of the column that we group upon, then pass through a function that we define, if inside that function, we sort the values, we will receive an array that is sorted ascendingly or descendingly, and different from original array withour sorting"
   ]
  },
  {
   "cell_type": "markdown",
   "metadata": {},
   "source": [
    "<!-- END QUESTION -->\n",
    "\n",
    "---\n",
    "\n",
    "**Question 3.** Set `department_ranges` to a table containing departments as the rows, and the organization groups as the columns. The values in the rows should correspond to a total compensation range, where range is defined as the **difference between the highest total compensation and the lowest total compensation in the department for that organization group**. **(9 Points)**\n",
    "\n",
    "*Hint:* First you'll need to define a new function `compensation_range` which takes in an array of compensations and returns the range of compensations in that array.\n"
   ]
  },
  {
   "cell_type": "code",
   "execution_count": 52,
   "id": "0f675d2f",
   "metadata": {},
   "outputs": [
    {
     "data": {
      "text/html": [
       "<table border=\"1\" class=\"dataframe\">\n",
       "    <thead>\n",
       "        <tr>\n",
       "            <th>Job</th> <th>Department</th> <th>Organization Group</th> <th>Total Compensation</th>\n",
       "        </tr>\n",
       "    </thead>\n",
       "    <tbody>\n",
       "        <tr>\n",
       "            <td>IS Trainer-Journey           </td> <td>Adult Probation</td> <td>Public Protection </td> <td>131391            </td>\n",
       "        </tr>\n",
       "        <tr>\n",
       "            <td>IS Engineer-Assistant        </td> <td>Adult Probation</td> <td>Public Protection </td> <td>172520            </td>\n",
       "        </tr>\n",
       "        <tr>\n",
       "            <td>IS Business Analyst-Senior   </td> <td>Adult Probation</td> <td>Public Protection </td> <td>162468            </td>\n",
       "        </tr>\n",
       "        <tr>\n",
       "            <td>IS Business Analyst-Principal</td> <td>Adult Probation</td> <td>Public Protection </td> <td>216706            </td>\n",
       "        </tr>\n",
       "        <tr>\n",
       "            <td>IS Programmer Analyst        </td> <td>Adult Probation</td> <td>Public Protection </td> <td>98706             </td>\n",
       "        </tr>\n",
       "    </tbody>\n",
       "</table>\n",
       "<p>... (44520 rows omitted)</p>"
      ],
      "text/plain": [
       "<IPython.core.display.HTML object>"
      ]
     },
     "metadata": {},
     "output_type": "display_data"
    }
   ],
   "source": [
    "sf.show(5)"
   ]
  },
  {
   "cell_type": "code",
   "execution_count": 53,
   "metadata": {
    "tags": []
   },
   "outputs": [
    {
     "data": {
      "text/html": [
       "<table border=\"1\" class=\"dataframe\">\n",
       "    <thead>\n",
       "        <tr>\n",
       "            <th>Department</th> <th>Community Health</th> <th>Culture & Recreation</th> <th>General Administration & Finance</th> <th>Human Welfare & Neighborhood Development</th> <th>Public Protection</th> <th>Public Works, Transportation & Commerce</th>\n",
       "        </tr>\n",
       "    </thead>\n",
       "    <tbody>\n",
       "        <tr>\n",
       "            <td>Academy Of Sciences    </td> <td>0               </td> <td>199121              </td> <td>0                               </td> <td>0                                       </td> <td>0                </td> <td>0                                      </td>\n",
       "        </tr>\n",
       "        <tr>\n",
       "            <td>Administrative Services</td> <td>0               </td> <td>0                   </td> <td>478784                          </td> <td>0                                       </td> <td>0                </td> <td>0                                      </td>\n",
       "        </tr>\n",
       "        <tr>\n",
       "            <td>Adult Probation        </td> <td>0               </td> <td>0                   </td> <td>0                               </td> <td>0                                       </td> <td>303419           </td> <td>0                                      </td>\n",
       "        </tr>\n",
       "        <tr>\n",
       "            <td>Airport Commission     </td> <td>0               </td> <td>0                   </td> <td>0                               </td> <td>0                                       </td> <td>0                </td> <td>445092                                 </td>\n",
       "        </tr>\n",
       "        <tr>\n",
       "            <td>Art Commission         </td> <td>0               </td> <td>251823              </td> <td>0                               </td> <td>0                                       </td> <td>0                </td> <td>0                                      </td>\n",
       "        </tr>\n",
       "        <tr>\n",
       "            <td>Asian Art Museum       </td> <td>0               </td> <td>298230              </td> <td>0                               </td> <td>0                                       </td> <td>0                </td> <td>0                                      </td>\n",
       "        </tr>\n",
       "        <tr>\n",
       "            <td>Assessor               </td> <td>0               </td> <td>0                   </td> <td>277385                          </td> <td>0                                       </td> <td>0                </td> <td>0                                      </td>\n",
       "        </tr>\n",
       "        <tr>\n",
       "            <td>Board Of Appeals       </td> <td>0               </td> <td>0                   </td> <td>0                               </td> <td>0                                       </td> <td>0                </td> <td>243582                                 </td>\n",
       "        </tr>\n",
       "        <tr>\n",
       "            <td>Board Of Supervisors   </td> <td>0               </td> <td>0                   </td> <td>293773                          </td> <td>0                                       </td> <td>0                </td> <td>0                                      </td>\n",
       "        </tr>\n",
       "        <tr>\n",
       "            <td>Building Inspection    </td> <td>0               </td> <td>0                   </td> <td>0                               </td> <td>0                                       </td> <td>0                </td> <td>340852                                 </td>\n",
       "        </tr>\n",
       "    </tbody>\n",
       "</table>\n",
       "<p>... (41 rows omitted)</p>"
      ],
      "text/plain": [
       "Department              | Community Health | Culture & Recreation | General Administration & Finance | Human Welfare & Neighborhood Development | Public Protection | Public Works, Transportation & Commerce\n",
       "Academy Of Sciences     | 0                | 199121               | 0                                | 0                                        | 0                 | 0\n",
       "Administrative Services | 0                | 0                    | 478784                           | 0                                        | 0                 | 0\n",
       "Adult Probation         | 0                | 0                    | 0                                | 0                                        | 303419            | 0\n",
       "Airport Commission      | 0                | 0                    | 0                                | 0                                        | 0                 | 445092\n",
       "Art Commission          | 0                | 251823               | 0                                | 0                                        | 0                 | 0\n",
       "Asian Art Museum        | 0                | 298230               | 0                                | 0                                        | 0                 | 0\n",
       "Assessor                | 0                | 0                    | 277385                           | 0                                        | 0                 | 0\n",
       "Board Of Appeals        | 0                | 0                    | 0                                | 0                                        | 0                 | 243582\n",
       "Board Of Supervisors    | 0                | 0                    | 293773                           | 0                                        | 0                 | 0\n",
       "Building Inspection     | 0                | 0                    | 0                                | 0                                        | 0                 | 340852\n",
       "... (41 rows omitted)"
      ]
     },
     "execution_count": 53,
     "metadata": {},
     "output_type": "execute_result"
    }
   ],
   "source": [
    "# Define compensation_range first\n",
    "def compensation_range(array):\n",
    "    '''Returns the range of compensation'''\n",
    "    return np.max(array) - np.min(array)\n",
    "\n",
    "department_ranges = sf.pivot(\"Organization Group\", \"Department\", \"Total Compensation\", compensation_range)\n",
    "department_ranges"
   ]
  },
  {
   "cell_type": "code",
   "execution_count": 54,
   "metadata": {
    "deletable": false,
    "editable": false
   },
   "outputs": [
    {
     "data": {
      "text/html": [
       "<p><strong><pre style='display: inline;'>q2_3</pre></strong> passed! 🚀</p>"
      ],
      "text/plain": [
       "q2_3 results: All test cases passed!"
      ]
     },
     "execution_count": 54,
     "metadata": {},
     "output_type": "execute_result"
    }
   ],
   "source": [
    "grader.check(\"q2_3\")"
   ]
  },
  {
   "cell_type": "markdown",
   "metadata": {},
   "source": [
    "<!-- BEGIN QUESTION -->\n",
    "\n",
    "--- \n",
    "\n",
    "**Question 4.** Why might some of the row values be `0` in the `department_ranges` table from the previous question. **(8 Points)**\n"
   ]
  },
  {
   "cell_type": "markdown",
   "metadata": {},
   "source": [
    "Because some departments are not exist in that organization group"
   ]
  },
  {
   "cell_type": "markdown",
   "metadata": {},
   "source": [
    "<!-- END QUESTION -->\n",
    "\n",
    "---\n",
    "\n",
    "**Question 5.** Find the number of departments appearing in the `sf` table that have an average total compensation of greater than 125,000 dollars; assign this value to the variable `num_over_125k`. **(9 Points)**\n",
    "\n",
    "*Note:* The variable names provided are meant to help guide the intermediate steps and general thought process. Feel free to delete them if you'd prefer to start from scratch, but make sure your final answer is assigned to `num_over_125k`!\n"
   ]
  },
  {
   "cell_type": "code",
   "execution_count": 55,
   "metadata": {
    "tags": []
   },
   "outputs": [
    {
     "data": {
      "text/plain": [
       "51"
      ]
     },
     "execution_count": 55,
     "metadata": {},
     "output_type": "execute_result"
    }
   ],
   "source": [
    "depts_and_comp = sf.select(\"Department\", \"Total Compensation\")\n",
    "department_avg = depts_and_comp.group(\"Department\", sum)\n",
    "num_over_125k = department_avg.where(\"Total Compensation sum\", are.above(125000)).num_rows\n",
    "num_over_125k"
   ]
  },
  {
   "cell_type": "code",
   "execution_count": 56,
   "metadata": {
    "deletable": false,
    "editable": false
   },
   "outputs": [
    {
     "data": {
      "text/html": [
       "<p><strong><pre style='display: inline;'>q2_5</pre></strong> passed! 🚀</p>"
      ],
      "text/plain": [
       "q2_5 results: All test cases passed!"
      ]
     },
     "execution_count": 56,
     "metadata": {},
     "output_type": "execute_result"
    }
   ],
   "source": [
    "grader.check(\"q2_5\")"
   ]
  },
  {
   "attachments": {},
   "cell_type": "markdown",
   "metadata": {},
   "source": [
    "You're done with Homework 4!  \n",
    "\n",
    "**Important submission steps:** \n",
    "1. Run the tests and verify that they all pass.\n",
    "2. Choose **Save Notebook** from the **File** menu, then **run the final cell**. \n",
    "3. Click the link to download the zip file.\n",
    "4. Go to [Gradescope](https://www.gradescope.com) and submit the zip file to the corresponding assignment. The name of this assignment is \"Homework 4 Autograder\". \n",
    "\n",
    "**It is your responsibility to make sure your work is saved before running the last cell.**"
   ]
  },
  {
   "attachments": {},
   "cell_type": "markdown",
   "metadata": {},
   "source": [
    "## Pets of Data 8\n",
    "**Mavis** says congrats on finishing HW 04!\n",
    "\n",
    "<img src=\"./mavis.png\" width=\"40%\" alt=\"Mavis the black cat laying on a floral blanket\"/>"
   ]
  },
  {
   "cell_type": "markdown",
   "metadata": {},
   "source": [
    "## Submission\n",
    "\n",
    "Below, you will see two cells. Running the first cell will automatically generate a PDF of all questions that need to be manually graded, and running the second cell will automatically generate a zip with your autograded answers. You are responsible for submitting both the coding portion (the zip) and the written portion (the PDF) to their respective Gradescope portals. **Please save before exporting!**\n",
    "\n",
    "> **Important: You must correctly assign the pages of your PDF after you submit to the correct gradescope assignment. If your pages are not correctly assigned and/or not in the correct PDF format by the deadline, we reserve the right to award no points for your written work.**\n",
    "\n",
    "If there are issues with automatically generating the PDF in the first cell, you can try downloading the notebook as a PDF by colicking on `File -> Save and Export Notebook As... -> PDF`. If that doesn't work either, you can manually take screenshots of your answers to the manually graded questions and submit those. Either way, **you are responsible for ensuring your submision follows our requirements, we will NOT be granting regrade requests for submissions that don't follow instructions.**\n",
    "\n",
    "**You must submit the PDF generated via one of these methods, we will not accept screenshots or Word documents.**"
   ]
  },
  {
   "cell_type": "code",
   "execution_count": 57,
   "metadata": {},
   "outputs": [
    {
     "data": {
      "text/html": [
       "Download your PDF <a href='hw04.pdf' download>here</a>."
      ],
      "text/plain": [
       "<IPython.core.display.HTML object>"
      ]
     },
     "metadata": {},
     "output_type": "display_data"
    }
   ],
   "source": [
    "from otter.export import export_notebook\n",
    "from os import path\n",
    "from IPython.display import display, HTML\n",
    "name = 'hw04'\n",
    "export_notebook(f\"{name}.ipynb\", filtering=True, pagebreaks=True)\n",
    "if(path.exists(f'{name}.pdf')):\n",
    "    display(HTML(f\"Download your PDF <a href='{name}.pdf' download>here</a>.\"))\n",
    "else:\n",
    "    print(\"\\n Pdf generation failed, please try the other methods described above\")"
   ]
  },
  {
   "cell_type": "markdown",
   "metadata": {
    "deletable": false,
    "editable": false
   },
   "source": [
    "## Submission\n",
    "\n",
    "Make sure you have run all cells in your notebook in order before running the cell below, so that all images/graphs appear in the output. The cell below will generate a zip file for you to submit. **Please save before exporting!**"
   ]
  },
  {
   "cell_type": "code",
   "execution_count": 58,
   "metadata": {
    "deletable": false,
    "editable": false
   },
   "outputs": [
    {
     "name": "stdout",
     "output_type": "stream",
     "text": [
      "Running your submission against local test cases...\n",
      "\n",
      "\n",
      "Your submission received the following results when run against available test cases:\n",
      "\n",
      "    q1_1 results: All test cases passed!\n",
      "\n",
      "    q1_4 results: All test cases passed!\n",
      "\n",
      "    q1_5 results: All test cases passed!\n",
      "\n",
      "    q1_7 results: All test cases passed!\n",
      "\n",
      "    q2_1 results: All test cases passed!\n",
      "\n",
      "    q2_3 results: All test cases passed!\n",
      "\n",
      "    q2_5 results: All test cases passed!\n"
     ]
    },
    {
     "data": {
      "text/html": [
       "\n",
       "                    <p>\n",
       "                        Your submission has been exported. Click\n",
       "                        <a href=\"hw04_2025_05_05T09_55_51_153473.zip\" download=\"hw04_2025_05_05T09_55_51_153473.zip\" target=\"_blank\">here</a> to download\n",
       "                        the zip file.\n",
       "                    </p>\n",
       "                "
      ],
      "text/plain": [
       "<IPython.core.display.HTML object>"
      ]
     },
     "metadata": {},
     "output_type": "display_data"
    }
   ],
   "source": [
    "# Save your notebook first, then run this cell to export your submission.\n",
    "grader.export(pdf=False, run_tests=True)"
   ]
  },
  {
   "cell_type": "markdown",
   "metadata": {},
   "source": [
    " "
   ]
  }
 ],
 "metadata": {
  "kernelspec": {
   "display_name": "Python 3",
   "language": "python",
   "name": "python3"
  },
  "language_info": {
   "codemirror_mode": {
    "name": "ipython",
    "version": 3
   },
   "file_extension": ".py",
   "mimetype": "text/x-python",
   "name": "python",
   "nbconvert_exporter": "python",
   "pygments_lexer": "ipython3",
   "version": "3.12.6"
  },
  "otter": {
   "OK_FORMAT": true,
   "tests": {
    "q1_1": {
     "name": "q1_1",
     "points": [
      0,
      0
     ],
     "suites": [
      {
       "cases": [
        {
         "code": ">>> # Make sure you have all the columns from both tables\n>>> set([\"Name\", \"Menu_Item\", \"Yelp\", \"Google\", \"Overall\", \"Cost\"]) == set(burritos.labels)\nTrue",
         "hidden": false,
         "locked": false
        },
        {
         "code": ">>> burritos.num_rows == 212\nTrue",
         "hidden": false,
         "locked": false
        }
       ],
       "scored": true,
       "setup": "",
       "teardown": "",
       "type": "doctest"
      }
     ]
    },
    "q1_4": {
     "name": "q1_4",
     "points": [
      1,
      1
     ],
     "suites": [
      {
       "cases": [
        {
         "code": ">>> # Number of columns should be 2\n>>> california_burritos.num_columns == 2\nTrue",
         "hidden": false,
         "locked": false
        },
        {
         "code": ">>> # Number of rows should be 19\n>>> california_burritos.num_rows == 19\nTrue",
         "hidden": false,
         "locked": false
        }
       ],
       "scored": true,
       "setup": "",
       "teardown": "",
       "type": "doctest"
      }
     ]
    },
    "q1_5": {
     "name": "q1_5",
     "points": [
      0
     ],
     "suites": [
      {
       "cases": [
        {
         "code": ">>> # Your answer should be a string\n>>> type(best_california_burrito) == str\nTrue",
         "hidden": false,
         "locked": false
        }
       ],
       "scored": true,
       "setup": "",
       "teardown": "",
       "type": "doctest"
      }
     ]
    },
    "q1_7": {
     "name": "q1_7",
     "points": [
      0
     ],
     "suites": [
      {
       "cases": [
        {
         "code": ">>> # Your answer should be between 0 and 100.\n>>> 0 <= burritos_less_than_six <= 100\nTrue",
         "hidden": false,
         "locked": false
        }
       ],
       "scored": true,
       "setup": "",
       "teardown": "",
       "type": "doctest"
      }
     ]
    },
    "q2_1": {
     "name": "q2_1",
     "points": [
      0,
      0,
      0,
      0
     ],
     "suites": [
      {
       "cases": [
        {
         "code": ">>> job_titles.num_columns\n2",
         "hidden": false,
         "locked": false
        },
        {
         "code": ">>> job_titles.num_rows\n6",
         "hidden": false,
         "locked": false
        },
        {
         "code": ">>> # Make sure that you have the correct column labels!\n>>> np.asarray(job_titles.labels).item(1) != \"Job full_array\"\nTrue",
         "hidden": false,
         "locked": false
        },
        {
         "code": ">>> # Make sure that you have the correct column labels!\n>>> np.asarray(job_titles.labels).item(1) == \"Jobs\"\nTrue",
         "hidden": false,
         "locked": false
        }
       ],
       "scored": true,
       "setup": "",
       "teardown": "",
       "type": "doctest"
      }
     ]
    },
    "q2_3": {
     "name": "q2_3",
     "points": [
      0,
      0,
      2
     ],
     "suites": [
      {
       "cases": [
        {
         "code": ">>> # Double check that your salary_range function is correct\n>>> compensation_range(make_array(5, 1, 20, 1000)) == 999\nTrue",
         "hidden": false,
         "locked": false
        },
        {
         "code": ">>> # Make sure that the table has departments as the rows and organization groups as the columns.\n>>> set([\"Department\", \"Community Health\", \"Culture & Recreation\", \"General Administration & Finance\", \"Human Welfare & Neighborhood Development\", \"Public Protection\", \"Public Works, Transportation & Commerce\"]) == set(department_ranges.labels)\nTrue",
         "hidden": false,
         "locked": false
        },
        {
         "code": ">>> sum(department_ranges.column(1))\n554179.0",
         "hidden": false,
         "locked": false
        }
       ],
       "scored": true,
       "setup": "",
       "teardown": "",
       "type": "doctest"
      }
     ]
    },
    "q2_5": {
     "name": "q2_5",
     "points": [
      2,
      2
     ],
     "suites": [
      {
       "cases": [
        {
         "code": ">>> # Make sure that your final answer is a number\n>>> isinstance(num_over_125k, int)\nTrue",
         "hidden": false,
         "locked": false
        },
        {
         "code": ">>> # Make sure that your answer makes sense given the sf table\n>>> 0 <= num_over_125k <= 51\nTrue",
         "hidden": false,
         "locked": false
        }
       ],
       "scored": true,
       "setup": "",
       "teardown": "",
       "type": "doctest"
      }
     ]
    }
   }
  }
 },
 "nbformat": 4,
 "nbformat_minor": 5
}
