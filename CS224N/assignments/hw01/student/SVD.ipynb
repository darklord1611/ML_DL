{
 "cells": [
  {
   "cell_type": "code",
   "execution_count": 1,
   "metadata": {},
   "outputs": [
    {
     "name": "stdout",
     "output_type": "stream",
     "text": [
      "Singular Values: [5.43876161 1.19158389]\n",
      "\n",
      "Condition Number: 4.564312818069661\n",
      "\n",
      "Low-Rank Approximation:\n",
      " [[2.65410884 2.38493061]\n",
      " [2.59799685 2.33450947]\n",
      " [1.6036877  1.44104259]]\n",
      "\n",
      "Reconstruction Error: 1.1537776118301384e-15\n"
     ]
    }
   ],
   "source": [
    "import numpy as np\n",
    "import numpy.linalg as la\n",
    "\n",
    "# Our sample matrix\n",
    "A = np.array([[3, 2],\n",
    "              [2, 3],\n",
    "              [2, 1]])\n",
    "\n",
    "# Compute SVD\n",
    "U, s, Vt = la.svd(A, full_matrices=True)\n",
    "\n",
    "# Reconstruct singular value matrix\n",
    "Sigma = np.zeros_like(A, dtype=float)\n",
    "np.fill_diagonal(Sigma, s)\n",
    "\n",
    "# Analysis\n",
    "print(\"Singular Values:\", s)\n",
    "print(\"\\nCondition Number:\", s[0]/s[-1])\n",
    "\n",
    "# Low-rank approximation\n",
    "k = 1  # Using only top singular value/vector\n",
    "A_approx = U[:, :k] @ np.diag(s[:k]) @ Vt[:k, :]\n",
    "print(\"\\nLow-Rank Approximation:\\n\", A_approx)\n",
    "\n",
    "# Reconstruction check\n",
    "A_reconstructed = U @ Sigma @ Vt\n",
    "print(\"\\nReconstruction Error:\", la.norm(A - A_reconstructed))"
   ]
  },
  {
   "cell_type": "code",
   "execution_count": null,
   "metadata": {},
   "outputs": [],
   "source": []
  }
 ],
 "metadata": {
  "language_info": {
   "name": "python"
  }
 },
 "nbformat": 4,
 "nbformat_minor": 2
}
